{
 "cells": [
  {
   "cell_type": "markdown",
   "source": [
    "##### Введём базисные векторы"
   ],
   "metadata": {
    "collapsed": false
   }
  },
  {
   "cell_type": "code",
   "execution_count": 1,
   "outputs": [
    {
     "name": "stdout",
     "output_type": "stream",
     "text": [
      "e_x=\n"
     ]
    },
    {
     "data": {
      "text/plain": "Matrix([\n[1],\n[0],\n[0]])",
      "text/latex": "$\\displaystyle \\left[\\begin{matrix}1\\\\0\\\\0\\end{matrix}\\right]$"
     },
     "metadata": {},
     "output_type": "display_data"
    }
   ],
   "source": [
    "from IPython.core.display import display\n",
    "from sympy import Function, cos, sin\n",
    "from sympy.abc import t\n",
    "from sympy.matrices.dense import Matrix\n",
    "\n",
    "e_x=Matrix([1, 0, 0])\n",
    "e_y=Matrix([0, 1, 0])\n",
    "e_z=Matrix([0, 0, 1])\n",
    "\n",
    "print(\"e_x=\")\n",
    "display(e_x)\n"
   ],
   "metadata": {
    "collapsed": false,
    "pycharm": {
     "name": "#%%\n"
    }
   }
  },
  {
   "cell_type": "code",
   "execution_count": 2,
   "outputs": [],
   "source": [
    "alpha = Function('alpha')(t)\n",
    "beta = Function('beta')(t)\n",
    "gamma = Function('gamma')(t)\n",
    "\n",
    "e_xi = e_x*cos(alpha) + e_y*sin(beta) + e_z*sin(gamma)\n",
    "#\n",
    "# e_xi.diff(t)\n"
   ],
   "metadata": {
    "collapsed": false,
    "pycharm": {
     "name": "#%%\n"
    }
   }
  }
 ],
 "metadata": {
  "kernelspec": {
   "name": "pycharm-be1a7259",
   "language": "python",
   "display_name": "PyCharm (dissertation_calculation)"
  },
  "language_info": {
   "codemirror_mode": {
    "name": "ipython",
    "version": 2
   },
   "file_extension": ".py",
   "mimetype": "text/x-python",
   "name": "python",
   "nbconvert_exporter": "python",
   "pygments_lexer": "ipython2",
   "version": "2.7.6"
  }
 },
 "nbformat": 4,
 "nbformat_minor": 0
}